{
 "cells": [
  {
   "cell_type": "code",
   "execution_count": 1,
   "metadata": {},
   "outputs": [],
   "source": [
    "import requests\n",
    "from requests_oauthlib import OAuth1\n",
    "import jsonlines\n",
    "import pandas as pd\n",
    "import twitter\n",
    "pd.set_option('display.width', None)\n",
    "pd.set_option('display.max_colwidth', -1)"
   ]
  },
  {
   "cell_type": "code",
   "execution_count": 2,
   "metadata": {},
   "outputs": [],
   "source": [
    "c_key = \"DJMb5DkcCzF0BSrx1beTcyOM1\"\n",
    "c_sec = \"Ir9eg9drOZHNclRPzOHFC5P5wTHrlxKd50aZsbw64aCh7UpB1G\"\n",
    "atk = \"408054144-eoeMyUuEDUsnsMEPtKH9i1e2A7Rr0YRA0j29FNt9\"\n",
    "ats = \"FyZyWM6nR8HkmQyjP5XymCATg8qCsygzStxmVWE9yk7c7\""
   ]
  },
  {
   "cell_type": "code",
   "execution_count": 3,
   "metadata": {},
   "outputs": [],
   "source": [
    "def to_json_append(df,file):\n",
    "    '''\n",
    "    Load the file with\n",
    "    pd.read_json(file,orient='records',lines=True)\n",
    "    '''\n",
    "    df.to_json('tmp.json',orient='records',lines=True)\n",
    "    #append\n",
    "    f=open('tmp.json','r')\n",
    "    k=f.read()\n",
    "    f.close()\n",
    "    f=open(file,'a')\n",
    "    f.write('\\n') #Prepare next data entry\n",
    "    f.write(k)\n",
    "    f.close()\n",
    "\n",
    "def twitter_stream(min_id):\n",
    "    results = t.search.tweets(q='distancing', lang='en', count=100, max_id=min_id, result_type='recent')\n",
    "    statuses = results['statuses']\n",
    "    ids = []\n",
    "    tweets = []\n",
    "    for status in statuses:\n",
    "        ids.append(status['id'])\n",
    "        tweets.append(status['text'])\n",
    "    tweets_df = pd.DataFrame(tweets)\n",
    "    to_json_append(tweets_df, 'tweet_text.json')\n",
    "    minimum_id = min(ids)\n",
    "    return minimum_id"
   ]
  },
  {
   "cell_type": "code",
   "execution_count": 4,
   "metadata": {},
   "outputs": [],
   "source": [
    "t = twitter.Twitter(auth=twitter.OAuth(atk, ats, c_key, c_sec))\n",
    "results = t.search.tweets(q='distancing', lang='en', count=100)\n",
    "statuses = results['statuses']"
   ]
  },
  {
   "cell_type": "code",
   "execution_count": 5,
   "metadata": {},
   "outputs": [],
   "source": [
    "ids = []\n",
    "for status in statuses:\n",
    "    ids.append(status['id'])\n",
    "starting_min = max(ids)"
   ]
  },
  {
   "cell_type": "code",
   "execution_count": 6,
   "metadata": {},
   "outputs": [],
   "source": [
    "m1 = twitter_stream(starting_min)\n",
    "m2 = twitter_stream(m1)\n",
    "m3 = twitter_stream(m2)\n",
    "m4 = twitter_stream(m3)\n",
    "m5 = twitter_stream(m4)\n",
    "m6 = twitter_stream(m5)\n",
    "m7 = twitter_stream(m6)\n",
    "m8 = twitter_stream(m7)\n",
    "m9 = twitter_stream(m8)\n",
    "m10 = twitter_stream(m9)\n",
    "m11 = twitter_stream(m10)\n",
    "m12 = twitter_stream(m11)\n",
    "m13 = twitter_stream(m12)\n",
    "m14 = twitter_stream(m13)\n",
    "m15 = twitter_stream(m14)\n",
    "m16 = twitter_stream(m15)\n",
    "m17 = twitter_stream(m16)\n",
    "m18 = twitter_stream(m17)\n",
    "m19 = twitter_stream(m18)\n",
    "m20 = twitter_stream(m19)\n",
    "m21 = twitter_stream(m20)\n",
    "m22 = twitter_stream(m21)\n",
    "m23 = twitter_stream(m22)\n",
    "m24 = twitter_stream(m23)\n",
    "m25 = twitter_stream(m24)"
   ]
  },
  {
   "cell_type": "code",
   "execution_count": null,
   "metadata": {},
   "outputs": [],
   "source": [
    "pd.read"
   ]
  }
 ],
 "metadata": {
  "kernelspec": {
   "display_name": "Python 3",
   "language": "python",
   "name": "python3"
  },
  "language_info": {
   "codemirror_mode": {
    "name": "ipython",
    "version": 3
   },
   "file_extension": ".py",
   "mimetype": "text/x-python",
   "name": "python",
   "nbconvert_exporter": "python",
   "pygments_lexer": "ipython3",
   "version": "3.7.3"
  }
 },
 "nbformat": 4,
 "nbformat_minor": 2
}
