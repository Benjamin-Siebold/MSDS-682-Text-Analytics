{
 "cells": [
  {
   "cell_type": "markdown",
   "metadata": {},
   "source": [
    "# KMeans and LSA Analysis\n",
    "In this project we will look into some MEDLINE transcript data of healthcare professionals, and compare how a kmeans model differs when first tranformed with an LSA SVD model.\n",
    "    \n",
    "The code, along with the files necessary and versions of packages in this instance can be found on this repo: https://github.com/Benjamin-Siebold/MSDS-682-Text-Analytics"
   ]
  },
  {
   "cell_type": "code",
   "execution_count": 1,
   "metadata": {},
   "outputs": [
    {
     "name": "stderr",
     "output_type": "stream",
     "text": [
      "[nltk_data] Downloading package punkt to /Users/z004g33/nltk_data...\n",
      "[nltk_data]   Package punkt is already up-to-date!\n"
     ]
    }
   ],
   "source": [
    "import pandas as pd\n",
    "import numpy as np\n",
    "import matplotlib.pyplot as plt\n",
    "\n",
    "import re\n",
    "import nltk\n",
    "import spacy\n",
    "import string\n",
    "\n",
    "from sklearn.feature_extraction.text import TfidfVectorizer\n",
    "from sklearn.cluster import KMeans\n",
    "from sklearn.decomposition import TruncatedSVD\n",
    "import sklearn_extra\n",
    "\n",
    "\n",
    "nlp = spacy.load('en_core_web_lg')\n",
    "nltk.download('punkt')\n",
    "stopwords = nltk.corpus.stopwords.words('english')\n",
    "np.random.seed(50)"
   ]
  },
  {
   "cell_type": "markdown",
   "metadata": {},
   "source": [
    "### 1 - Import data, and clean text\n",
    "\n",
    "The first step in this anlayis is to import the data we are interested in, and clean the text for topic modeling. This may take multiple iterations, as we investigate the data, see what it consists of, and remove words that may be unecessary for classification."
   ]
  },
  {
   "cell_type": "code",
   "execution_count": 2,
   "metadata": {},
   "outputs": [],
   "source": [
    "def clean_text(docs):\n",
    "    \n",
    "    print('remove classifications')\n",
    "    docs = [re.sub(r'\\b[A-Z]+\\b', '', doc) for doc in docs]\n",
    "    \n",
    "    print('removing punc')\n",
    "    table = str.maketrans({key: None for key in string.punctuation + string.digits})\n",
    "    clean_docs = [d.translate(table) for d in docs]\n",
    "    \n",
    "    print('nlp')\n",
    "    nlp_docs = [nlp(doc) for doc in clean_docs]\n",
    "    \n",
    "    print('lemmatize')\n",
    "    lemm_docs = [[w.lower_ if w.lemma_ == '-PRON-' \n",
    "                  else w.lemma_ for w in doc]\n",
    "                for doc in nlp_docs]\n",
    "    \n",
    "    print('remove stopwords')\n",
    "    lemm_docs = [[lemma for lemma in doc if lemma not in stopwords] for doc in lemm_docs]\n",
    "    \n",
    "    print('combine words')\n",
    "    cleaned_docs = [' '.join(word) for word in lemm_docs]\n",
    "    \n",
    "    print('remove leading/trailing spaces')\n",
    "    cleaned_docs = [doc.strip() for doc in cleaned_docs]\n",
    "    \n",
    "    return cleaned_docs"
   ]
  },
  {
   "cell_type": "code",
   "execution_count": 3,
   "metadata": {},
   "outputs": [],
   "source": [
    "transcript_data = pd.read_csv('mtsamples.csv')"
   ]
  },
  {
   "cell_type": "code",
   "execution_count": 4,
   "metadata": {},
   "outputs": [],
   "source": [
    "transcript = pd.DataFrame(transcript_data['transcription'])"
   ]
  },
  {
   "cell_type": "code",
   "execution_count": 5,
   "metadata": {},
   "outputs": [],
   "source": [
    "transcript = transcript.dropna()"
   ]
  },
  {
   "cell_type": "code",
   "execution_count": 6,
   "metadata": {},
   "outputs": [],
   "source": [
    "t1 = transcript['transcription']"
   ]
  },
  {
   "cell_type": "code",
   "execution_count": 7,
   "metadata": {},
   "outputs": [
    {
     "name": "stdout",
     "output_type": "stream",
     "text": [
      "remove classifications\n",
      "removing punc\n",
      "nlp\n",
      "lemmatize\n",
      "remove stopwords\n",
      "combine words\n",
      "remove leading/trailing spaces\n"
     ]
    }
   ],
   "source": [
    "cleaned_transcription = clean_text(t1)"
   ]
  },
  {
   "cell_type": "code",
   "execution_count": 8,
   "metadata": {},
   "outputs": [
    {
     "data": {
      "text/html": [
       "<div>\n",
       "<style scoped>\n",
       "    .dataframe tbody tr th:only-of-type {\n",
       "        vertical-align: middle;\n",
       "    }\n",
       "\n",
       "    .dataframe tbody tr th {\n",
       "        vertical-align: top;\n",
       "    }\n",
       "\n",
       "    .dataframe thead th {\n",
       "        text-align: right;\n",
       "    }\n",
       "</style>\n",
       "<table border=\"1\" class=\"dataframe\">\n",
       "  <thead>\n",
       "    <tr style=\"text-align: right;\">\n",
       "      <th></th>\n",
       "      <th>0</th>\n",
       "    </tr>\n",
       "  </thead>\n",
       "  <tbody>\n",
       "    <tr>\n",
       "      <th>patient</th>\n",
       "      <td>23999</td>\n",
       "    </tr>\n",
       "    <tr>\n",
       "      <th>right</th>\n",
       "      <td>11087</td>\n",
       "    </tr>\n",
       "    <tr>\n",
       "      <th>use</th>\n",
       "      <td>8978</td>\n",
       "    </tr>\n",
       "    <tr>\n",
       "      <th>place</th>\n",
       "      <td>8298</td>\n",
       "    </tr>\n",
       "    <tr>\n",
       "      <th>left</th>\n",
       "      <td>7126</td>\n",
       "    </tr>\n",
       "    <tr>\n",
       "      <th>normal</th>\n",
       "      <td>6979</td>\n",
       "    </tr>\n",
       "    <tr>\n",
       "      <th>well</th>\n",
       "      <td>6388</td>\n",
       "    </tr>\n",
       "    <tr>\n",
       "      <th>pain</th>\n",
       "      <td>5922</td>\n",
       "    </tr>\n",
       "    <tr>\n",
       "      <th>note</th>\n",
       "      <td>4910</td>\n",
       "    </tr>\n",
       "    <tr>\n",
       "      <th>time</th>\n",
       "      <td>4683</td>\n",
       "    </tr>\n",
       "  </tbody>\n",
       "</table>\n",
       "</div>"
      ],
      "text/plain": [
       "             0\n",
       "patient  23999\n",
       "right    11087\n",
       "use       8978\n",
       "place     8298\n",
       "left      7126\n",
       "normal    6979\n",
       "well      6388\n",
       "pain      5922\n",
       "note      4910\n",
       "time      4683"
      ]
     },
     "execution_count": 8,
     "metadata": {},
     "output_type": "execute_result"
    }
   ],
   "source": [
    "single_string = ' '.join(cleaned_transcription)\n",
    "ranking = nltk.FreqDist(single_string.split())\n",
    "ranking_df = pd.DataFrame.from_dict(ranking, orient='index')\n",
    "ranking_df.sort_values(by=[0], ascending=False).head(10)"
   ]
  },
  {
   "cell_type": "code",
   "execution_count": 9,
   "metadata": {},
   "outputs": [],
   "source": [
    "stopwords = set(stopwords + ['patient'])"
   ]
  },
  {
   "cell_type": "code",
   "execution_count": 10,
   "metadata": {},
   "outputs": [
    {
     "name": "stdout",
     "output_type": "stream",
     "text": [
      "remove classifications\n",
      "removing punc\n",
      "nlp\n",
      "lemmatize\n",
      "remove stopwords\n",
      "combine words\n",
      "remove leading/trailing spaces\n"
     ]
    }
   ],
   "source": [
    "cleaned_transcription = clean_text(t1)"
   ]
  },
  {
   "cell_type": "markdown",
   "metadata": {},
   "source": [
    "### 2 - Apply KMEANs\n",
    "\n",
    "With the data cleaned, we will first go through the process of applying a kmeans model to the data. This first section will mirror the week 5 analysis project."
   ]
  },
  {
   "cell_type": "code",
   "execution_count": 11,
   "metadata": {},
   "outputs": [
    {
     "data": {
      "text/plain": [
       "(4966, 35)"
      ]
     },
     "execution_count": 11,
     "metadata": {},
     "output_type": "execute_result"
    }
   ],
   "source": [
    "vect = TfidfVectorizer(min_df=1500)\n",
    "features = vect.fit_transform(cleaned_transcription)\n",
    "features.shape"
   ]
  },
  {
   "cell_type": "code",
   "execution_count": 12,
   "metadata": {},
   "outputs": [],
   "source": [
    "features = features.todense()"
   ]
  },
  {
   "cell_type": "code",
   "execution_count": 13,
   "metadata": {},
   "outputs": [],
   "source": [
    "wss = []\n",
    "for n in range(2,50):\n",
    "    model = KMeans(n_clusters = n, random_state = 50, n_jobs=-1)\n",
    "    model.fit(features)\n",
    "    wss.append(-model.score(features))"
   ]
  },
  {
   "cell_type": "code",
   "execution_count": 14,
   "metadata": {},
   "outputs": [
    {
     "data": {
      "text/plain": [
       "<matplotlib.collections.PathCollection at 0x1aa8cfdc50>"
      ]
     },
     "execution_count": 14,
     "metadata": {},
     "output_type": "execute_result"
    },
    {
     "data": {
      "image/png": "[encoded data removed]",
      "text/plain": [
       "<Figure size 432x288 with 1 Axes>"
      ]
     },
     "metadata": {
      "needs_background": "light"
     },
     "output_type": "display_data"
    }
   ],
   "source": [
    "plt.scatter(range(2,50),wss)"
   ]
  },
  {
   "cell_type": "code",
   "execution_count": 15,
   "metadata": {},
   "outputs": [],
   "source": [
    "model = KMeans(n_clusters=18, random_state=50, n_jobs=-1)\n",
    "model.fit(features)\n",
    "cluster_labels = model.predict(features)"
   ]
  },
  {
   "cell_type": "code",
   "execution_count": 16,
   "metadata": {},
   "outputs": [],
   "source": [
    "transcripts = pd.DataFrame(cleaned_transcription)\n",
    "clusters_df = pd.DataFrame(cluster_labels, columns=['prediction'])"
   ]
  },
  {
   "cell_type": "code",
   "execution_count": 17,
   "metadata": {},
   "outputs": [],
   "source": [
    "clustered_transcripts = pd.concat([transcripts, clusters_df], axis=1, join='inner')\n"
   ]
  },
  {
   "cell_type": "code",
   "execution_count": 18,
   "metadata": {},
   "outputs": [
    {
     "data": {
      "text/html": [
       "<div>\n",
       "<style scoped>\n",
       "    .dataframe tbody tr th:only-of-type {\n",
       "        vertical-align: middle;\n",
       "    }\n",
       "\n",
       "    .dataframe tbody tr th {\n",
       "        vertical-align: top;\n",
       "    }\n",
       "\n",
       "    .dataframe thead th {\n",
       "        text-align: right;\n",
       "    }\n",
       "</style>\n",
       "<table border=\"1\" class=\"dataframe\">\n",
       "  <thead>\n",
       "    <tr style=\"text-align: right;\">\n",
       "      <th></th>\n",
       "      <th>0</th>\n",
       "      <th>prediction</th>\n",
       "    </tr>\n",
       "  </thead>\n",
       "  <tbody>\n",
       "    <tr>\n",
       "      <th>0</th>\n",
       "      <td>yearold white female present complaint allergy...</td>\n",
       "      <td>9</td>\n",
       "    </tr>\n",
       "    <tr>\n",
       "      <th>1</th>\n",
       "      <td>difficulty climb stair difficulty airline seat...</td>\n",
       "      <td>12</td>\n",
       "    </tr>\n",
       "    <tr>\n",
       "      <th>2</th>\n",
       "      <td>see   today   pleasant gentleman   year old   ...</td>\n",
       "      <td>12</td>\n",
       "    </tr>\n",
       "    <tr>\n",
       "      <th>3</th>\n",
       "      <td>leave atrial enlargement left atrial diameter ...</td>\n",
       "      <td>17</td>\n",
       "    </tr>\n",
       "    <tr>\n",
       "      <th>4</th>\n",
       "      <td>left ventricular cavity size wall thickness ap...</td>\n",
       "      <td>2</td>\n",
       "    </tr>\n",
       "    <tr>\n",
       "      <th>5</th>\n",
       "      <td>morbid obesity    morbid obesity   Laparoscopi...</td>\n",
       "      <td>14</td>\n",
       "    </tr>\n",
       "    <tr>\n",
       "      <th>6</th>\n",
       "      <td>deformity right breast reconstruction   excess...</td>\n",
       "      <td>14</td>\n",
       "    </tr>\n",
       "    <tr>\n",
       "      <th>7</th>\n",
       "      <td>multiple view heart great vessel reveal normal...</td>\n",
       "      <td>17</td>\n",
       "    </tr>\n",
       "    <tr>\n",
       "      <th>8</th>\n",
       "      <td>Lipodystrophy abdomen thigh    Lipodystrophy a...</td>\n",
       "      <td>9</td>\n",
       "    </tr>\n",
       "    <tr>\n",
       "      <th>9</th>\n",
       "      <td>normal cardiac chamber size   normal left vent...</td>\n",
       "      <td>17</td>\n",
       "    </tr>\n",
       "  </tbody>\n",
       "</table>\n",
       "</div>"
      ],
      "text/plain": [
       "                                                   0  prediction\n",
       "0  yearold white female present complaint allergy...           9\n",
       "1  difficulty climb stair difficulty airline seat...          12\n",
       "2  see   today   pleasant gentleman   year old   ...          12\n",
       "3  leave atrial enlargement left atrial diameter ...          17\n",
       "4  left ventricular cavity size wall thickness ap...           2\n",
       "5  morbid obesity    morbid obesity   Laparoscopi...          14\n",
       "6  deformity right breast reconstruction   excess...          14\n",
       "7  multiple view heart great vessel reveal normal...          17\n",
       "8  Lipodystrophy abdomen thigh    Lipodystrophy a...           9\n",
       "9  normal cardiac chamber size   normal left vent...          17"
      ]
     },
     "execution_count": 18,
     "metadata": {},
     "output_type": "execute_result"
    }
   ],
   "source": [
    "clustered_transcripts.head(10)"
   ]
  },
  {
   "cell_type": "code",
   "execution_count": 19,
   "metadata": {},
   "outputs": [
    {
     "name": "stdout",
     "output_type": "stream",
     "text": [
      "cluster 0\n",
      "number of datapoints in cluster: 197\n",
      "top 10 words and counts:\n",
      "[('well', 607), ('see', 308), ('mg', 253), ('day', 244), ('normal', 225), ('give', 186), ('Dr', 177), ('follow', 177), ('good', 170), ('need', 163)]\n",
      "cluster 1\n",
      "number of datapoints in cluster: 366\n",
      "top 10 words and counts:\n",
      "[('right', 2651), ('use', 1142), ('place', 1121), ('incision', 666), ('remove', 566), ('well', 520), ('suture', 514), ('procedure', 500), ('close', 470), ('room', 468)]\n",
      "cluster 2\n",
      "number of datapoints in cluster: 332\n",
      "top 10 words and counts:\n",
      "[('left', 2177), ('right', 1260), ('artery', 1178), ('leave', 710), ('coronary', 657), ('normal', 615), ('use', 474), ('catheter', 454), ('disease', 347), ('anterior', 339)]\n",
      "cluster 3\n",
      "number of datapoints in cluster: 236\n",
      "top 10 words and counts:\n",
      "[('blood', 739), ('pressure', 415), ('mg', 376), ('negative', 279), ('rate', 265), ('day', 255), ('heart', 217), ('show', 203), ('disease', 199), ('normal', 197)]\n",
      "cluster 4\n",
      "number of datapoints in cluster: 254\n",
      "top 10 words and counts:\n",
      "[('procedure', 706), ('use', 212), ('well', 201), ('place', 189), ('risk', 189), ('perform', 167), ('obtain', 152), ('position', 142), ('take', 138), ('follow', 138)]\n",
      "cluster 5\n",
      "number of datapoints in cluster: 281\n",
      "top 10 words and counts:\n",
      "[('remove', 849), ('place', 703), ('room', 487), ('incision', 434), ('use', 429), ('take', 412), ('operating', 343), ('position', 332), ('general', 325), ('procedure', 316)]\n",
      "cluster 6\n",
      "number of datapoints in cluster: 169\n",
      "top 10 words and counts:\n",
      "[('note', 823), ('normal', 356), ('well', 299), ('time', 219), ('use', 174), ('place', 168), ('history', 165), ('clear', 156), ('also', 142), ('negative', 139)]\n",
      "cluster 7\n",
      "number of datapoints in cluster: 335\n",
      "top 10 words and counts:\n",
      "[('right', 2812), ('left', 480), ('artery', 467), ('normal', 432), ('pain', 386), ('low', 358), ('upper', 342), ('pulmonary', 327), ('leave', 308), ('mg', 297)]\n",
      "cluster 8\n",
      "number of datapoints in cluster: 262\n",
      "top 10 words and counts:\n",
      "[('left', 976), ('leave', 956), ('place', 652), ('skin', 517), ('suture', 494), ('incision', 480), ('use', 457), ('well', 431), ('perform', 362), ('take', 348)]\n",
      "cluster 9\n",
      "number of datapoints in cluster: 393\n",
      "top 10 words and counts:\n",
      "[('use', 3251), ('place', 1470), ('incision', 957), ('suture', 802), ('remove', 796), ('well', 785), ('right', 733), ('skin', 722), ('make', 635), ('take', 615)]\n",
      "cluster 10\n",
      "number of datapoints in cluster: 219\n",
      "top 10 words and counts:\n",
      "[('without', 919), ('normal', 838), ('pain', 317), ('note', 292), ('clear', 243), ('bilaterally', 234), ('intact', 227), ('well', 227), ('evidence', 227), ('lesion', 208)]\n",
      "cluster 11\n",
      "number of datapoints in cluster: 302\n",
      "top 10 words and counts:\n",
      "[('history', 1718), ('mg', 783), ('normal', 465), ('day', 464), ('deny', 452), ('negative', 445), ('disease', 430), ('pain', 410), ('daily', 359), ('show', 344)]\n",
      "cluster 12\n",
      "number of datapoints in cluster: 381\n",
      "top 10 words and counts:\n",
      "[('pain', 2584), ('back', 673), ('deny', 664), ('mg', 636), ('right', 630), ('history', 562), ('normal', 537), ('day', 511), ('low', 496), ('well', 493)]\n",
      "cluster 13\n",
      "number of datapoints in cluster: 173\n",
      "top 10 words and counts:\n",
      "[('area', 733), ('right', 276), ('left', 242), ('use', 213), ('place', 199), ('incision', 197), ('procedure', 187), ('note', 181), ('well', 175), ('skin', 165)]\n",
      "cluster 14\n",
      "number of datapoints in cluster: 344\n",
      "top 10 words and counts:\n",
      "[('place', 2723), ('use', 1009), ('remove', 794), ('suture', 792), ('right', 701), ('incision', 663), ('well', 657), ('mm', 650), ('position', 636), ('take', 587)]\n",
      "cluster 15\n",
      "number of datapoints in cluster: 177\n",
      "top 10 words and counts:\n",
      "[('also', 767), ('mg', 367), ('day', 252), ('see', 251), ('state', 247), ('time', 244), ('normal', 221), ('blood', 218), ('history', 210), ('year', 209)]\n",
      "cluster 16\n",
      "number of datapoints in cluster: 217\n",
      "top 10 words and counts:\n",
      "[('time', 968), ('mg', 417), ('day', 351), ('report', 350), ('well', 329), ('history', 308), ('year', 296), ('also', 280), ('see', 271), ('sleep', 268)]\n",
      "cluster 17\n",
      "number of datapoints in cluster: 328\n",
      "top 10 words and counts:\n",
      "[('normal', 1871), ('right', 318), ('show', 306), ('left', 264), ('see', 260), ('without', 252), ('disc', 240), ('mg', 235), ('negative', 210), ('reveal', 205)]\n"
     ]
    }
   ],
   "source": [
    "### Taken from Week 5 solutions\n",
    "\n",
    "clean_text_array=np.array(cleaned_transcription)\n",
    "for i in range(18):\n",
    "    cluster_docs=clean_text_array[cluster_labels==i]\n",
    "    wordcounts=nltk.FreqDist(' '.join(cluster_docs).split())\n",
    "    print('cluster', i)\n",
    "    print('number of datapoints in cluster:', np.sum(cluster_labels==i))\n",
    "    print('top 10 words and counts:')\n",
    "    print(wordcounts.most_common()[:10])"
   ]
  },
  {
   "cell_type": "markdown",
   "metadata": {},
   "source": [
    "### 3 - KMEANs Summary\n",
    "\n",
    "From the above, one can see there isn't a great eblow in the kmeans curve, which makes it difficult to chose the number of clusters. There looks to be a very small elbow at 18 clusters, so 18 was chosen. We then look at the top words from each cluster, and find the clusters are hard to separate from eachother. \n",
    "\n",
    "For example, the word \"right\" is in the top 5 words in 9 of the 18 clusters, and well is in the top 5 words in 11 of the 18 clusters. This makes it difficult to use top words to show what the clusters entail. This could potentially be fixed by removing certain words from the texts, but it is hard to know with healthcare and the english language if the word right is referring to the right side of the body, or if everything is all right; thus removing all instances of right could cause very negative impacts.\n",
    "\n",
    "We also look at more specific words and can make some interpretations about the groupings. Cluster 5 seems to be about surgery to some capacity with words like \"operating\", \"procedure\", \"incision\" and \"room\", so the model isn't a total failure."
   ]
  },
  {
   "cell_type": "markdown",
   "metadata": {},
   "source": [
    "### 4 - Add LSA decomposition to see affects\n",
    "\n",
    "Next, LSA will be applied to the data to try and apply a better model that gives more descriptive or unique models. First, we will apply the TruncatedSVD and then apply a transform to our features in hopes that the model will can accuracy."
   ]
  },
  {
   "cell_type": "code",
   "execution_count": 20,
   "metadata": {},
   "outputs": [
    {
     "data": {
      "text/plain": [
       "18"
      ]
     },
     "execution_count": 20,
     "metadata": {},
     "output_type": "execute_result"
    }
   ],
   "source": [
    "svd_model = TruncatedSVD(n_components=18, algorithm='randomized', n_iter=-1, random_state=50)\n",
    "\n",
    "svd_model.fit(features)\n",
    "\n",
    "len(svd_model.components_)"
   ]
  },
  {
   "cell_type": "code",
   "execution_count": 21,
   "metadata": {},
   "outputs": [],
   "source": [
    "LSA_model = svd_model.fit_transform(features)"
   ]
  },
  {
   "cell_type": "code",
   "execution_count": 22,
   "metadata": {},
   "outputs": [],
   "source": [
    "wss = []\n",
    "for n in range(2,50):\n",
    "    model = KMeans(n_clusters = n, random_state = 50, n_jobs=-1)\n",
    "    model.fit(LSA_model)\n",
    "    wss.append(-model.score(LSA_model))"
   ]
  },
  {
   "cell_type": "code",
   "execution_count": 23,
   "metadata": {},
   "outputs": [
    {
     "data": {
      "text/plain": [
       "<matplotlib.collections.PathCollection at 0x1aca2c6b50>"
      ]
     },
     "execution_count": 23,
     "metadata": {},
     "output_type": "execute_result"
    },
    {
     "data": {
      "image/png": "[encoded data removed]",
      "text/plain": [
       "<Figure size 432x288 with 1 Axes>"
      ]
     },
     "metadata": {
      "needs_background": "light"
     },
     "output_type": "display_data"
    }
   ],
   "source": [
    "plt.scatter(range(2,50),wss)"
   ]
  },
  {
   "cell_type": "markdown",
   "metadata": {},
   "source": [
    "### 5 - Apply Best Model\n",
    "\n",
    "Similar to the regular kmeans model, the curve does not have a hard elbow. The scores are overall significantly lower, which should give us a better model overall. There are two slight drops, one at 18, and one around 30. For consistancy in comparing models, we will choose 18 clusters again."
   ]
  },
  {
   "cell_type": "code",
   "execution_count": 24,
   "metadata": {},
   "outputs": [],
   "source": [
    "lsa_means_model = KMeans(n_clusters = 18, random_state = 50, n_jobs = -1)\n",
    "lsa_means_model.fit(LSA_model)\n",
    "lsa_clusters = lsa_means_model.predict(LSA_model)"
   ]
  },
  {
   "cell_type": "code",
   "execution_count": 25,
   "metadata": {},
   "outputs": [],
   "source": [
    "lsa_clusters_df = pd.DataFrame(lsa_clusters, columns=['prediction'])"
   ]
  },
  {
   "cell_type": "code",
   "execution_count": 26,
   "metadata": {},
   "outputs": [],
   "source": [
    "lsa_clustered_transcripts = pd.concat([transcripts, lsa_clusters_df], axis=1, join='inner')\n"
   ]
  },
  {
   "cell_type": "code",
   "execution_count": 27,
   "metadata": {},
   "outputs": [
    {
     "data": {
      "text/html": [
       "<div>\n",
       "<style scoped>\n",
       "    .dataframe tbody tr th:only-of-type {\n",
       "        vertical-align: middle;\n",
       "    }\n",
       "\n",
       "    .dataframe tbody tr th {\n",
       "        vertical-align: top;\n",
       "    }\n",
       "\n",
       "    .dataframe thead th {\n",
       "        text-align: right;\n",
       "    }\n",
       "</style>\n",
       "<table border=\"1\" class=\"dataframe\">\n",
       "  <thead>\n",
       "    <tr style=\"text-align: right;\">\n",
       "      <th></th>\n",
       "      <th>0</th>\n",
       "      <th>prediction</th>\n",
       "    </tr>\n",
       "  </thead>\n",
       "  <tbody>\n",
       "    <tr>\n",
       "      <th>0</th>\n",
       "      <td>yearold white female present complaint allergy...</td>\n",
       "      <td>9</td>\n",
       "    </tr>\n",
       "    <tr>\n",
       "      <th>1</th>\n",
       "      <td>difficulty climb stair difficulty airline seat...</td>\n",
       "      <td>4</td>\n",
       "    </tr>\n",
       "    <tr>\n",
       "      <th>2</th>\n",
       "      <td>see   today   pleasant gentleman   year old   ...</td>\n",
       "      <td>4</td>\n",
       "    </tr>\n",
       "    <tr>\n",
       "      <th>3</th>\n",
       "      <td>leave atrial enlargement left atrial diameter ...</td>\n",
       "      <td>13</td>\n",
       "    </tr>\n",
       "    <tr>\n",
       "      <th>4</th>\n",
       "      <td>left ventricular cavity size wall thickness ap...</td>\n",
       "      <td>10</td>\n",
       "    </tr>\n",
       "    <tr>\n",
       "      <th>5</th>\n",
       "      <td>morbid obesity    morbid obesity   Laparoscopi...</td>\n",
       "      <td>1</td>\n",
       "    </tr>\n",
       "    <tr>\n",
       "      <th>6</th>\n",
       "      <td>deformity right breast reconstruction   excess...</td>\n",
       "      <td>1</td>\n",
       "    </tr>\n",
       "    <tr>\n",
       "      <th>7</th>\n",
       "      <td>multiple view heart great vessel reveal normal...</td>\n",
       "      <td>13</td>\n",
       "    </tr>\n",
       "    <tr>\n",
       "      <th>8</th>\n",
       "      <td>Lipodystrophy abdomen thigh    Lipodystrophy a...</td>\n",
       "      <td>9</td>\n",
       "    </tr>\n",
       "    <tr>\n",
       "      <th>9</th>\n",
       "      <td>normal cardiac chamber size   normal left vent...</td>\n",
       "      <td>10</td>\n",
       "    </tr>\n",
       "  </tbody>\n",
       "</table>\n",
       "</div>"
      ],
      "text/plain": [
       "                                                   0  prediction\n",
       "0  yearold white female present complaint allergy...           9\n",
       "1  difficulty climb stair difficulty airline seat...           4\n",
       "2  see   today   pleasant gentleman   year old   ...           4\n",
       "3  leave atrial enlargement left atrial diameter ...          13\n",
       "4  left ventricular cavity size wall thickness ap...          10\n",
       "5  morbid obesity    morbid obesity   Laparoscopi...           1\n",
       "6  deformity right breast reconstruction   excess...           1\n",
       "7  multiple view heart great vessel reveal normal...          13\n",
       "8  Lipodystrophy abdomen thigh    Lipodystrophy a...           9\n",
       "9  normal cardiac chamber size   normal left vent...          10"
      ]
     },
     "execution_count": 27,
     "metadata": {},
     "output_type": "execute_result"
    }
   ],
   "source": [
    "lsa_clustered_transcripts.head(10)"
   ]
  },
  {
   "cell_type": "markdown",
   "metadata": {},
   "source": [
    "### 6 - Compare Models\n",
    "\n",
    "Initially, it looks like the model may not be any different from the original KMeans model; however, we will create the top words from each cluster and look at the top 10 words in each cluster."
   ]
  },
  {
   "cell_type": "code",
   "execution_count": 28,
   "metadata": {},
   "outputs": [
    {
     "name": "stdout",
     "output_type": "stream",
     "text": [
      "cluster 1\n",
      "number of datapoints in cluster: 407\n",
      "top 10 words and counts:\n",
      "[('left', 2459), ('leave', 1294), ('artery', 1261), ('right', 1226), ('coronary', 738), ('use', 696), ('catheter', 549), ('place', 472), ('perform', 469), ('normal', 454)]\n",
      "cluster 2\n",
      "number of datapoints in cluster: 551\n",
      "top 10 words and counts:\n",
      "[('place', 3421), ('remove', 1448), ('use', 1359), ('suture', 1185), ('incision', 1079), ('well', 976), ('position', 931), ('right', 921), ('take', 893), ('mm', 811)]\n",
      "cluster 3\n",
      "number of datapoints in cluster: 233\n",
      "top 10 words and counts:\n",
      "[('blood', 749), ('pressure', 461), ('mg', 374), ('negative', 281), ('rate', 267), ('day', 255), ('normal', 227), ('heart', 223), ('history', 218), ('show', 212)]\n",
      "cluster 4\n",
      "number of datapoints in cluster: 178\n",
      "top 10 words and counts:\n",
      "[('normal', 853), ('pain', 839), ('deny', 407), ('day', 356), ('mg', 340), ('without', 333), ('left', 326), ('well', 259), ('time', 238), ('right', 236)]\n",
      "cluster 5\n",
      "number of datapoints in cluster: 303\n",
      "top 10 words and counts:\n",
      "[('pain', 2167), ('back', 584), ('right', 503), ('deny', 476), ('mg', 474), ('history', 462), ('state', 427), ('also', 410), ('well', 403), ('time', 402)]\n",
      "cluster 6\n",
      "number of datapoints in cluster: 165\n",
      "top 10 words and counts:\n",
      "[('note', 858), ('normal', 299), ('well', 283), ('use', 213), ('time', 201), ('place', 195), ('incision', 189), ('right', 181), ('procedure', 156), ('without', 150)]\n",
      "cluster 7\n",
      "number of datapoints in cluster: 193\n",
      "top 10 words and counts:\n",
      "[('area', 740), ('left', 377), ('skin', 351), ('place', 315), ('procedure', 297), ('incision', 294), ('suture', 256), ('use', 254), ('right', 245), ('remove', 221)]\n",
      "cluster 8\n",
      "number of datapoints in cluster: 156\n",
      "top 10 words and counts:\n",
      "[('well', 602), ('mg', 259), ('day', 208), ('good', 170), ('daily', 154), ('normal', 148), ('follow', 142), ('give', 142), ('also', 140), ('clear', 139)]\n",
      "cluster 9\n",
      "number of datapoints in cluster: 241\n",
      "top 10 words and counts:\n",
      "[('time', 1010), ('mg', 450), ('history', 373), ('day', 371), ('report', 349), ('well', 335), ('normal', 297), ('use', 288), ('year', 283), ('also', 262)]\n",
      "cluster 10\n",
      "number of datapoints in cluster: 447\n",
      "top 10 words and counts:\n",
      "[('use', 3292), ('place', 1591), ('incision', 1017), ('well', 830), ('suture', 797), ('remove', 759), ('skin', 756), ('right', 723), ('take', 721), ('make', 647)]\n",
      "cluster 11\n",
      "number of datapoints in cluster: 171\n",
      "top 10 words and counts:\n",
      "[('see', 572), ('normal', 227), ('right', 202), ('Dr', 157), ('mg', 157), ('day', 157), ('left', 139), ('also', 134), ('well', 128), ('time', 127)]\n",
      "cluster 12\n",
      "number of datapoints in cluster: 387\n",
      "top 10 words and counts:\n",
      "[('right', 2735), ('place', 1253), ('use', 1150), ('incision', 721), ('well', 558), ('suture', 540), ('remove', 529), ('procedure', 521), ('close', 508), ('room', 508)]\n",
      "cluster 13\n",
      "number of datapoints in cluster: 168\n",
      "top 10 words and counts:\n",
      "[('also', 780), ('mg', 367), ('history', 272), ('time', 254), ('day', 246), ('state', 246), ('report', 228), ('normal', 222), ('year', 217), ('blood', 214)]\n",
      "cluster 14\n",
      "number of datapoints in cluster: 288\n",
      "top 10 words and counts:\n",
      "[('normal', 1760), ('right', 307), ('left', 285), ('show', 275), ('disc', 240), ('negative', 233), ('without', 231), ('mg', 211), ('history', 208), ('time', 201)]\n",
      "cluster 15\n",
      "number of datapoints in cluster: 343\n",
      "top 10 words and counts:\n",
      "[('right', 2845), ('left', 574), ('artery', 466), ('normal', 433), ('pulmonary', 407), ('pain', 384), ('low', 374), ('upper', 352), ('lobe', 299), ('also', 295)]\n",
      "cluster 16\n",
      "number of datapoints in cluster: 287\n",
      "top 10 words and counts:\n",
      "[('procedure', 705), ('use', 268), ('well', 241), ('place', 215), ('follow', 211), ('perform', 210), ('room', 198), ('remove', 197), ('take', 186), ('risk', 181)]\n",
      "cluster 17\n",
      "number of datapoints in cluster: 178\n",
      "top 10 words and counts:\n",
      "[('without', 724), ('normal', 528), ('note', 218), ('clear', 190), ('evidence', 172), ('intact', 166), ('bilaterally', 148), ('masse', 147), ('tenderness', 135), ('negative', 134)]\n",
      "cluster 18\n",
      "number of datapoints in cluster: 270\n",
      "top 10 words and counts:\n",
      "[('history', 1565), ('mg', 639), ('negative', 445), ('normal', 417), ('deny', 397), ('disease', 372), ('day', 368), ('pain', 335), ('show', 327), ('daily', 308)]\n"
     ]
    }
   ],
   "source": [
    "### Taken from Week 5 solutions\n",
    "\n",
    "clean_text_array=np.array(cleaned_transcription)\n",
    "for i in range(18):\n",
    "    cluster_docs=clean_text_array[lsa_clusters==i]\n",
    "    wordcounts=nltk.FreqDist(' '.join(cluster_docs).split())\n",
    "    print('cluster', i+1)\n",
    "    print('number of datapoints in cluster:', np.sum(lsa_clusters==i))\n",
    "    print('top 10 words and counts:')\n",
    "    print(wordcounts.most_common()[:10])"
   ]
  },
  {
   "cell_type": "markdown",
   "metadata": {},
   "source": [
    "### 7 - LSA Summary\n",
    "After reading through the clusters above, a more thorough investigation of the original KMeans model is necessary. First we look at the LSA tranformed model and can make general assumptions about the first five clusters:\n",
    "\n",
    "1. (artery, coronary, catheter, perform, place) all suggest this could be about hear procedures, or placing a stint?\n",
    "\n",
    "2. (remove, suture, incision, mm) all suggest this could be about the cutting or incisions made and how the healed from an operation\n",
    "\n",
    "3. (blood, pressure, normal, heart, history) all suggest this cluster involves patients with either previous heart issues, or being seen for blood pressure related issues\n",
    "\n",
    "4. (pain, normal, deny, history) The 4th cluster is harder to understand what is occuring. The pain may be looking at patients with pain, but their aren't many other words to suggest specifics, and there are many general words.\n",
    "\n",
    "5. (pain, back, deny, history) The 5th cluster has some overlap of the 4th top words, with back being a distinct difference that may suggest back pain vs another type of pain.\n",
    "\n",
    "From there looking through the list of clusters is still difficult to fully distinguish what is different between the clusters. Overall, this model needs much improvement in order for it to be used in production"
   ]
  }
 ],
 "metadata": {
  "kernelspec": {
   "display_name": "Python 3",
   "language": "python",
   "name": "python3"
  },
  "language_info": {
   "codemirror_mode": {
    "name": "ipython",
    "version": 3
   },
   "file_extension": ".py",
   "mimetype": "text/x-python",
   "name": "python",
   "nbconvert_exporter": "python",
   "pygments_lexer": "ipython3",
   "version": "3.7.6"
  }
 },
 "nbformat": 4,
 "nbformat_minor": 4
}
