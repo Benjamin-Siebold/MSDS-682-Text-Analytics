{
 "cells": [
  {
   "cell_type": "code",
   "execution_count": 1,
   "metadata": {},
   "outputs": [],
   "source": [
    "def make_lowercase(a_string):\n",
    "    \"\"\"\n",
    "    Takes in a string and returns the lowercased version of it.\n",
    "    \"\"\"\n",
    "    lowercased_string = a_string.lower()\n",
    "    \n",
    "    return lowercased_string"
   ]
  },
  {
   "cell_type": "code",
   "execution_count": 2,
   "metadata": {},
   "outputs": [
    {
     "name": "stdout",
     "output_type": "stream",
     "text": [
      "here is a string with some capitals.\n"
     ]
    }
   ],
   "source": [
    "test_string = 'Here is a String with SOME Capitals.'\n",
    "lowered_string = make_lowercase(test_string)\n",
    "print(lowered_string)"
   ]
  },
  {
   "cell_type": "code",
   "execution_count": 3,
   "metadata": {},
   "outputs": [],
   "source": [
    "import spacy\n",
    "nlp = spacy.load('en_core_web_lg')"
   ]
  },
  {
   "cell_type": "code",
   "execution_count": 5,
   "metadata": {},
   "outputs": [
    {
     "name": "stdout",
     "output_type": "stream",
     "text": [
      "here is a string with some capitals\n"
     ]
    }
   ],
   "source": [
    "nlp_string = nlp(test_string)\n",
    "lowercase_words = []\n",
    "for word in nlp_string:\n",
    "    if not word.is_punct:\n",
    "        lowercase_words.append(word.lower_)\n",
    "\n",
    "print(' '.join(lowercase_words))"
   ]
  },
  {
   "cell_type": "code",
   "execution_count": 9,
   "metadata": {},
   "outputs": [
    {
     "data": {
      "text/plain": [
       "spacy.tokens.token.Token"
      ]
     },
     "execution_count": 9,
     "metadata": {},
     "output_type": "execute_result"
    }
   ],
   "source": [
    "type(nlp_string[0])"
   ]
  },
  {
   "cell_type": "code",
   "execution_count": 10,
   "metadata": {},
   "outputs": [],
   "source": [
    "token = nlp_string[0]"
   ]
  },
  {
   "cell_type": "code",
   "execution_count": 11,
   "metadata": {},
   "outputs": [
    {
     "data": {
      "text/plain": [
       "Here"
      ]
     },
     "execution_count": 11,
     "metadata": {},
     "output_type": "execute_result"
    }
   ],
   "source": [
    "token"
   ]
  },
  {
   "cell_type": "code",
   "execution_count": 12,
   "metadata": {},
   "outputs": [
    {
     "data": {
      "text/plain": [
       "True"
      ]
     },
     "execution_count": 12,
     "metadata": {},
     "output_type": "execute_result"
    }
   ],
   "source": [
    "token.is_stop"
   ]
  },
  {
   "cell_type": "code",
   "execution_count": 13,
   "metadata": {},
   "outputs": [
    {
     "data": {
      "text/plain": [
       "Capitals"
      ]
     },
     "execution_count": 13,
     "metadata": {},
     "output_type": "execute_result"
    }
   ],
   "source": [
    "nlp_string[6]"
   ]
  },
  {
   "cell_type": "code",
   "execution_count": 14,
   "metadata": {},
   "outputs": [
    {
     "data": {
      "text/plain": [
       "False"
      ]
     },
     "execution_count": 14,
     "metadata": {},
     "output_type": "execute_result"
    }
   ],
   "source": [
    "nlp_string[6].is_stop"
   ]
  },
  {
   "cell_type": "code",
   "execution_count": 15,
   "metadata": {},
   "outputs": [
    {
     "data": {
      "text/plain": [
       "True"
      ]
     },
     "execution_count": 15,
     "metadata": {},
     "output_type": "execute_result"
    }
   ],
   "source": [
    "nlp_string[6].is_alpha"
   ]
  },
  {
   "cell_type": "code",
   "execution_count": 16,
   "metadata": {},
   "outputs": [
    {
     "data": {
      "text/plain": [
       "'capital'"
      ]
     },
     "execution_count": 16,
     "metadata": {},
     "output_type": "execute_result"
    }
   ],
   "source": [
    "nlp_string[6].lemma_"
   ]
  },
  {
   "cell_type": "code",
   "execution_count": 1,
   "metadata": {},
   "outputs": [],
   "source": [
    "def clean_text(text):\n",
    "    # use spacy nlp() to process the text\n",
    "    nlp_text = ___\n",
    "    # create an empty list to store our cleaned, lemmatized words\n",
    "    lemmas = ___\n",
    "    # Loop through the words.\n",
    "    # If the words are alphabetic and not stopwords,\n",
    "    # append them to the lemmas list.\n",
    "    for w in nlp_text:\n",
    "        if ___:\n",
    "            continue\n",
    "        \n",
    "        # pronouns' lemmas are '-PRON-'\n",
    "        if w.lemma_ == '-PRON-':\n",
    "            lemmas.append(w.lower_)\n",
    "        else:\n",
    "            # append the lemma to the lemmas list\n",
    "            ___\n",
    "    \n",
    "    # return a single string which has been joined back together with single spaces and lowercased\n",
    "    # you might want to do this in multiple lines\n",
    "    return ___"
   ]
  },
  {
   "cell_type": "code",
   "execution_count": null,
   "metadata": {},
   "outputs": [],
   "source": [
    "test_string = 'this test string has    CAPS, numbers 9-8, punctuation !*&$, and stopwords like \"the\"'\n",
    "correct_output_lemmatize = 'test string cap number punctuation stopword like'\n",
    "your_result = clean_text(test_string)\n",
    "\n",
    "print('your result:', your_result)\n",
    "print('\\n'*3)\n",
    "\n",
    "\n",
    "if your_result == correct_output_lemmatize:\n",
    "    print('Nice work, you got it!')\n",
    "else:\n",
    "    print('Whoops, something is wrong.  Your function returned:')\n",
    "    print(your_result)\n",
    "    print('but (for stemming) it should look like:')\n",
    "    print(correct_output_lemmatize)"
   ]
  }
 ],
 "metadata": {
  "kernelspec": {
   "display_name": "Python 3",
   "language": "python",
   "name": "python3"
  },
  "language_info": {
   "codemirror_mode": {
    "name": "ipython",
    "version": 3
   },
   "file_extension": ".py",
   "mimetype": "text/x-python",
   "name": "python",
   "nbconvert_exporter": "python",
   "pygments_lexer": "ipython3",
   "version": "3.7.3"
  }
 },
 "nbformat": 4,
 "nbformat_minor": 2
}
